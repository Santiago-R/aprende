{
  "nbformat": 4,
  "nbformat_minor": 0,
  "metadata": {
    "colab": {
      "provenance": [],
      "authorship_tag": "ABX9TyNB4R2x9a2F75SrayhvizEG",
      "include_colab_link": true
    },
    "kernelspec": {
      "name": "python3",
      "display_name": "Python 3"
    },
    "language_info": {
      "name": "python"
    }
  },
  "cells": [
    {
      "cell_type": "markdown",
      "metadata": {
        "id": "view-in-github",
        "colab_type": "text"
      },
      "source": [
        "<a href=\"https://colab.research.google.com/github/Santiago-R/aupa.ai/blob/main/traduccion_nb.ipynb\" target=\"_parent\"><img src=\"https://colab.research.google.com/assets/colab-badge.svg\" alt=\"Open In Colab\"/></a>"
      ]
    },
    {
      "cell_type": "code",
      "execution_count": null,
      "metadata": {
        "id": "ez5peIUUOUGe"
      },
      "outputs": [],
      "source": [
        "url = 'https://github.com/fastai/fastai/blob/master/nbs/44_tutorial.tabular.ipynb'"
      ]
    },
    {
      "cell_type": "code",
      "source": [],
      "metadata": {
        "id": "cN3lYW9KOXaU"
      },
      "execution_count": null,
      "outputs": []
    }
  ]
}